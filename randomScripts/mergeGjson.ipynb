{
 "cells": [
  {
   "cell_type": "code",
   "execution_count": 6,
   "metadata": {},
   "outputs": [],
   "source": [
    "import pandas as pd\n",
    "import geopandas as gpd"
   ]
  },
  {
   "cell_type": "code",
   "execution_count": 4,
   "metadata": {},
   "outputs": [],
   "source": [
    "df = pd.read_excel('/Users/joy/Documents/code/gMapExperiements/data/ecosia-polygons.xlsx')"
   ]
  },
  {
   "cell_type": "code",
   "execution_count": 5,
   "metadata": {},
   "outputs": [
    {
     "data": {
      "text/html": [
       "<div>\n",
       "<style scoped>\n",
       "    .dataframe tbody tr th:only-of-type {\n",
       "        vertical-align: middle;\n",
       "    }\n",
       "\n",
       "    .dataframe tbody tr th {\n",
       "        vertical-align: top;\n",
       "    }\n",
       "\n",
       "    .dataframe thead th {\n",
       "        text-align: right;\n",
       "    }\n",
       "</style>\n",
       "<table border=\"1\" class=\"dataframe\">\n",
       "  <thead>\n",
       "    <tr style=\"text-align: right;\">\n",
       "      <th></th>\n",
       "      <th>polygon</th>\n",
       "    </tr>\n",
       "  </thead>\n",
       "  <tbody>\n",
       "    <tr>\n",
       "      <th>0</th>\n",
       "      <td>{\"type\":\"FeatureCollection\",\"features\":[{\"type...</td>\n",
       "    </tr>\n",
       "    <tr>\n",
       "      <th>1</th>\n",
       "      <td>{\"type\":\"FeatureCollection\",\"features\":[{\"type...</td>\n",
       "    </tr>\n",
       "    <tr>\n",
       "      <th>2</th>\n",
       "      <td>{\"type\":\"FeatureCollection\",\"features\":[{\"type...</td>\n",
       "    </tr>\n",
       "    <tr>\n",
       "      <th>3</th>\n",
       "      <td>{\"type\":\"FeatureCollection\",\"features\":[{\"type...</td>\n",
       "    </tr>\n",
       "    <tr>\n",
       "      <th>4</th>\n",
       "      <td>{\"type\":\"FeatureCollection\",\"features\":[{\"type...</td>\n",
       "    </tr>\n",
       "    <tr>\n",
       "      <th>...</th>\n",
       "      <td>...</td>\n",
       "    </tr>\n",
       "    <tr>\n",
       "      <th>190</th>\n",
       "      <td>{\"type\":\"FeatureCollection\",\"features\":[{\"type...</td>\n",
       "    </tr>\n",
       "    <tr>\n",
       "      <th>191</th>\n",
       "      <td>{\"type\":\"FeatureCollection\",\"features\":[{\"type...</td>\n",
       "    </tr>\n",
       "    <tr>\n",
       "      <th>192</th>\n",
       "      <td>{\"type\":\"FeatureCollection\",\"features\":[{\"type...</td>\n",
       "    </tr>\n",
       "    <tr>\n",
       "      <th>193</th>\n",
       "      <td>{\"type\":\"FeatureCollection\",\"features\":[{\"type...</td>\n",
       "    </tr>\n",
       "    <tr>\n",
       "      <th>194</th>\n",
       "      <td>{\"type\":\"FeatureCollection\",\"features\":[{\"type...</td>\n",
       "    </tr>\n",
       "  </tbody>\n",
       "</table>\n",
       "<p>195 rows × 1 columns</p>\n",
       "</div>"
      ],
      "text/plain": [
       "                                               polygon\n",
       "0    {\"type\":\"FeatureCollection\",\"features\":[{\"type...\n",
       "1    {\"type\":\"FeatureCollection\",\"features\":[{\"type...\n",
       "2    {\"type\":\"FeatureCollection\",\"features\":[{\"type...\n",
       "3    {\"type\":\"FeatureCollection\",\"features\":[{\"type...\n",
       "4    {\"type\":\"FeatureCollection\",\"features\":[{\"type...\n",
       "..                                                 ...\n",
       "190  {\"type\":\"FeatureCollection\",\"features\":[{\"type...\n",
       "191  {\"type\":\"FeatureCollection\",\"features\":[{\"type...\n",
       "192  {\"type\":\"FeatureCollection\",\"features\":[{\"type...\n",
       "193  {\"type\":\"FeatureCollection\",\"features\":[{\"type...\n",
       "194  {\"type\":\"FeatureCollection\",\"features\":[{\"type...\n",
       "\n",
       "[195 rows x 1 columns]"
      ]
     },
     "execution_count": 5,
     "metadata": {},
     "output_type": "execute_result"
    }
   ],
   "source": [
    "df"
   ]
  },
  {
   "cell_type": "code",
   "execution_count": 8,
   "metadata": {},
   "outputs": [],
   "source": [
    "\n",
    "gdf = gpd.GeoDataFrame()\n",
    "\n",
    "# Iterate over each row in the DataFrame\n",
    "for index, row in df.iterrows():\n",
    "    # Read the GeoJSON from the current cell\n",
    "    geojson = row['polygon']\n",
    "    \n",
    "    # Skip empty cells\n",
    "    if pd.isna(geojson):\n",
    "        continue\n",
    "    \n",
    "    # Create a GeoDataFrame from the GeoJSON and append it to the main GeoDataFrame\n",
    "    poly_gdf = gpd.read_file(geojson)\n",
    "    gdf = pd.concat([gdf, poly_gdf], ignore_index=True)\n",
    "\n",
    "# Export the combined GeoDataFrame to a single GeoJSON file\n",
    "gdf.to_file('combined_polygons.geojson', driver='GeoJSON')\n"
   ]
  }
 ],
 "metadata": {
  "kernelspec": {
   "display_name": "gMap",
   "language": "python",
   "name": "python3"
  },
  "language_info": {
   "codemirror_mode": {
    "name": "ipython",
    "version": 3
   },
   "file_extension": ".py",
   "mimetype": "text/x-python",
   "name": "python",
   "nbconvert_exporter": "python",
   "pygments_lexer": "ipython3",
   "version": "3.10.10"
  },
  "orig_nbformat": 4
 },
 "nbformat": 4,
 "nbformat_minor": 2
}
