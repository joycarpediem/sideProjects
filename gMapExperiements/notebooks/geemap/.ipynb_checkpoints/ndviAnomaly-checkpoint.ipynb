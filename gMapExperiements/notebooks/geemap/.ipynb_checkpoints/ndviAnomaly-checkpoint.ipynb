{
 "cells": [
  {
   "cell_type": "code",
   "execution_count": 1,
   "metadata": {},
   "outputs": [],
   "source": [
    "import ee\n",
    "import geemap\n",
    "\n",
    "# Initialize Google Earth Engine\n"
   ]
  },
  {
   "cell_type": "code",
   "execution_count": 2,
   "metadata": {},
   "outputs": [
    {
     "data": {
      "text/html": [
       "<p>To authorize access needed by Earth Engine, open the following\n",
       "        URL in a web browser and follow the instructions:</p>\n",
       "        <p><a href=https://code.earthengine.google.com/client-auth?scopes=https%3A//www.googleapis.com/auth/earthengine%20https%3A//www.googleapis.com/auth/devstorage.full_control&request_id=YKix5mfK9dLYbj6FpQaW_1rNyo3qcwZllEpYzPqEDTY&tc=OL77kjJ_tZu6b1eD18xPvtCcF4fAJXi6nDqDhCPBqAE&cc=PpnnCEbzaHCgin9xz59I0LTDL9W4owyDUW4MPHUZG3Y>https://code.earthengine.google.com/client-auth?scopes=https%3A//www.googleapis.com/auth/earthengine%20https%3A//www.googleapis.com/auth/devstorage.full_control&request_id=YKix5mfK9dLYbj6FpQaW_1rNyo3qcwZllEpYzPqEDTY&tc=OL77kjJ_tZu6b1eD18xPvtCcF4fAJXi6nDqDhCPBqAE&cc=PpnnCEbzaHCgin9xz59I0LTDL9W4owyDUW4MPHUZG3Y</a></p>\n",
       "        <p>The authorization workflow will generate a code, which you should paste in the box below.</p>\n",
       "        "
      ],
      "text/plain": [
       "<IPython.core.display.HTML object>"
      ]
     },
     "metadata": {},
     "output_type": "display_data"
    },
    {
     "name": "stdout",
     "output_type": "stream",
     "text": [
      "Enter verification code: 4/1AbUR2VMo4Rt9ao71DFR-_TT4zrSqCQtpEZS7q1K6L1M2DvemsW99KrffHDs\n",
      "\n",
      "Successfully saved authorization token.\n"
     ]
    }
   ],
   "source": [
    "ee.Authenticate()\n",
    "# ee.Initialize()"
   ]
  },
  {
   "cell_type": "code",
   "execution_count": null,
   "metadata": {},
   "outputs": [],
   "source": [
    "# Define the region of interest (geojson file for farm plots)\n",
    "roi = ee.FeatureCollection(\"/Users/joy/Documents/code/gMapExperiements/data/ecosia-single.geojson\")"
   ]
  },
  {
   "cell_type": "code",
   "execution_count": null,
   "metadata": {},
   "outputs": [],
   "source": [
    "\n",
    "\n",
    "# Define the date range for image collection\n",
    "start_date = '2022-01-01'\n",
    "end_date = '2022-12-31'\n",
    "\n",
    "# Function to mask clouds and shadows\n",
    "def maskClouds(image):\n",
    "    # Bits 10 and 11 represent clouds and cirrus, respectively\n",
    "    cloud_bit_mask = 1 << 10\n",
    "    cirrus_bit_mask = 1 << 11\n",
    "\n",
    "    # Get the pixel QA band\n",
    "    qa = image.select('QA60')\n",
    "\n",
    "    # Both flags should be set to zero, indicating clear conditions\n",
    "    mask = qa.bitwiseAnd(cloud_bit_mask).eq(0) and (qa.bitwiseAnd(cirrus_bit_mask).eq(0))\n",
    "\n",
    "    # Return the masked image, scaled to NDVI range\n",
    "    return image.updateMask(mask).divide(10000)\n",
    "\n",
    "# Function to compute NDVI\n",
    "def computeNDVI(image):\n",
    "    ndvi = image.normalizedDifference(['B8', 'B4']).rename('NDVI')\n",
    "    return image.addBands(ndvi)\n",
    "\n",
    "# Sentinel-2 image collection\n",
    "s2_collection = (ee.ImageCollection('COPERNICUS/S2')\n",
    "                 .filterBounds(roi)\n",
    "                 .filterDate(start_date, end_date)\n",
    "                 .filter(ee.Filter.lt('CLOUDY_PIXEL_PERCENTAGE', 10))\n",
    "                 .map(maskClouds)\n",
    "                 .map(computeNDVI))\n",
    "\n",
    "# Resample the image collection to monthly frequency\n",
    "monthly_collection = s2_collection.filter(ee.Filter.calendarRange(1, 12, 'month'))\n",
    "\n",
    "# Compute the long-term average NDVI for each month\n",
    "long_term_average = monthly_collection.mean()\n",
    "\n",
    "# Compute NDVI anomalies for each month\n",
    "def computeAnomaly(image):\n",
    "    # Get the month from the image timestamp\n",
    "    month = image.date().get('month')\n",
    "\n",
    "    # Compute the anomaly by subtracting the long-term average from the image\n",
    "    anomaly = image.select('NDVI').subtract(long_term_average.select('NDVI')).rename('NDVI_Anomaly')\n",
    "\n",
    "    # Return the image with the anomaly band and month property\n",
    "    return image.addBands(anomaly).set('month', month)\n",
    "\n",
    "anomaly_collection = monthly_collection.map(computeAnomaly)\n",
    "\n",
    "# Filter images for months where NDVI couldn't be computed due to cloud cover\n",
    "filtered_collection = anomaly_collection.filter(ee.Filter.notNull(['NDVI_Anomaly']))\n",
    "\n",
    "# Print the image collection\n",
    "print('Filtered Image Collection:', filtered_collection)\n",
    "\n",
    "# Visualization\n",
    "map = geemap.Map()\n",
    "map.centerObject(roi, zoom=10)\n",
    "vis_params = {'min': -0.5, 'max': 0.5, 'palette': ['red', 'white', 'green']}\n",
    "map.addLayer(long_term_average.select('NDVI'), vis_params, 'Long-term Average NDVI')\n",
    "map.addLayer(filtered_collection.select('NDVI_Anomaly'), vis_params, 'NDVI Anomaly')\n",
    "map.addLayer(roi, {}, 'Farm Plots')\n",
    "map.addLayerControl()\n",
    "map\n"
   ]
  }
 ],
 "metadata": {
  "kernelspec": {
   "display_name": "Python 3 (ipykernel)",
   "language": "python",
   "name": "python3"
  },
  "language_info": {
   "codemirror_mode": {
    "name": "ipython",
    "version": 3
   },
   "file_extension": ".py",
   "mimetype": "text/x-python",
   "name": "python",
   "nbconvert_exporter": "python",
   "pygments_lexer": "ipython3",
   "version": "3.10.10"
  }
 },
 "nbformat": 4,
 "nbformat_minor": 2
}
