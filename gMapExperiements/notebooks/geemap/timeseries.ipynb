{
 "cells": [
  {
   "cell_type": "code",
   "execution_count": 1,
   "metadata": {},
   "outputs": [],
   "source": [
    "import ee\n",
    "import geemap"
   ]
  },
  {
   "cell_type": "code",
   "execution_count": null,
   "metadata": {},
   "outputs": [],
   "source": [
    "Map = geemap.Map()\n",
    "point=ee.Geometry.Point(34.097209,47.440251)\n",
    "collection = (\n",
    "    ee.ImageCollection('MODIS/MCD43A4_006_NDVI').filterBounds(point)\n",
    "    .filter(ee.Filter.date('2022-01-01', '2022-12-31'))   \n",
    "    .select(\"NDVI\")\n",
    ")\n",
    "vis_params = {\n",
    "    'min': 0.0,\n",
    "    'max': 1.0,\n",
    "    'palette': [\n",
    "        'FFFFFF',\n",
    "        'CE7E45',\n",
    "        'DF923D',\n",
    "        'F1B555',\n",
    "        'FCD163',\n",
    "        '99B718',\n",
    "        '74A901',\n",
    "        '66A000',\n",
    "        '529400',\n",
    "        '3E8601',\n",
    "        '207401',\n",
    "        '056201',\n",
    "        '004C00',\n",
    "        '023B01',\n",
    "        '012E01',\n",
    "        '011D01',\n",
    "        '011301',\n",
    "    ],\n",
    "}\n",
    "\n",
    "first_image = collection.first()\n",
    "\n",
    "\n",
    "# Map.addLayer(first_image, vis_params, \"First image\", False)\n",
    "Map.setCenter(34.097209,47.440251, 8)\n",
    "Map"
   ]
  },
  {
   "cell_type": "code",
   "execution_count": 3,
   "metadata": {},
   "outputs": [
    {
     "name": "stdout",
     "output_type": "stream",
     "text": [
      "Image collection size: 36\n"
     ]
    }
   ],
   "source": [
    "def make_sequence(start, end, interval):\n",
    "    date_range = end.difference(start, 'day')\n",
    "    count = date_range.divide(interval).round().toInt()\n",
    "    return ee.List.sequence(0, count.subtract(1)).map(\n",
    "        lambda offset: start.advance(ee.Number(interval).multiply(offset), 'day'))\n",
    "\n",
    "# Define the start and end dates and interval\n",
    "start_date = ee.Date('2022-01-01')\n",
    "end_date = ee.Date('2022-12-31')\n",
    "interval = 10  # 10 days\n",
    "\n",
    "# Generate a sequence of dates every 10 days\n",
    "date_sequence = make_sequence(start_date, end_date, interval)\n",
    "\n",
    "# Filter the MODIS collection based on the date sequence\n",
    "modis_filtered_collection = ee.ImageCollection(ee.List([]))  # Empty collection\n",
    "\n",
    "# Iterate over the date sequence and filter images\n",
    "for date in date_sequence.getInfo():\n",
    "    date = ee.Date(date['value'])\n",
    "    filtered_images = collection.filter(ee.Filter.date(date, date.advance(interval, 'day'))).first()\n",
    "    modis_filtered_collection = modis_filtered_collection.merge(filtered_images)\n",
    "\n",
    "# Print the resulting image collection size\n",
    "print('Image collection size:', modis_filtered_collection.size().getInfo())"
   ]
  },
  {
   "cell_type": "code",
   "execution_count": 4,
   "metadata": {},
   "outputs": [],
   "source": [
    "Map.add_time_slider(modis_filtered_collection, vis_params, time_interval=2)"
   ]
  }
 ],
 "metadata": {
  "kernelspec": {
   "display_name": "gMap",
   "language": "python",
   "name": "python3"
  },
  "language_info": {
   "codemirror_mode": {
    "name": "ipython",
    "version": 3
   },
   "file_extension": ".py",
   "mimetype": "text/x-python",
   "name": "python",
   "nbconvert_exporter": "python",
   "pygments_lexer": "ipython3",
   "version": "3.10.10"
  },
  "orig_nbformat": 4
 },
 "nbformat": 4,
 "nbformat_minor": 2
}
