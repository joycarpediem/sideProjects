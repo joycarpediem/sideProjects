{
 "cells": [
  {
   "attachments": {},
   "cell_type": "markdown",
   "metadata": {},
   "source": [
    "## Country/ province profile using various datasets from GEE catalog"
   ]
  },
  {
   "cell_type": "code",
   "execution_count": 1,
   "metadata": {},
   "outputs": [],
   "source": [
    "import ee\n",
    "import pandas as pd\n",
    "import geemap\n",
    "import leafmap"
   ]
  },
  {
   "attachments": {},
   "cell_type": "markdown",
   "metadata": {},
   "source": [
    "#Datasets\n",
    "- World pop \n",
    "- FAO GAUL "
   ]
  },
  {
   "cell_type": "code",
   "execution_count": 2,
   "metadata": {},
   "outputs": [
    {
     "data": {
      "application/vnd.jupyter.widget-view+json": {
       "model_id": "171b9863e4ed4984996e7ebb54b261ed",
       "version_major": 2,
       "version_minor": 0
      },
      "text/plain": [
       "Map(center=[20, 0], controls=(WidgetControl(options=['position', 'transparent_bg'], widget=HBox(children=(Togg…"
      ]
     },
     "metadata": {},
     "output_type": "display_data"
    }
   ],
   "source": [
    "import ee\n",
    "import geemap\n",
    "\n",
    "# Initialize Earth Engine\n",
    "ee.Initialize()\n",
    "\n",
    "# Load the dataset\n",
    "dataset = ee.Image('UMD/hansen/global_forest_change_2022_v1_10')\n",
    "\n",
    "# Visualization parameters for tree cover\n",
    "treeCoverVisParam = {\n",
    "    'bands': ['treecover2000'],\n",
    "    'min': 0,\n",
    "    'max': 100,\n",
    "    'palette': ['black', 'green']\n",
    "}\n",
    "\n",
    "# Add the tree cover layer to the map\n",
    "Map = geemap.Map()\n",
    "Map.addLayer(dataset, treeCoverVisParam, 'tree cover')\n",
    "\n",
    "# Visualization parameters for tree loss year\n",
    "treeLossVisParam = {\n",
    "    'bands': ['lossyear'],\n",
    "    'min': 0,\n",
    "    'max': 22,\n",
    "    'palette': ['yellow', 'red']\n",
    "}\n",
    "\n",
    "# Add the tree loss year layer to the map\n",
    "Map.addLayer(dataset, treeLossVisParam, 'tree loss year')\n",
    "\n",
    "# Display the map\n",
    "Map\n"
   ]
  },
  {
   "cell_type": "code",
   "execution_count": 1,
   "metadata": {},
   "outputs": [],
   "source": [
    "import ee\n",
    "import geemap\n",
    "\n",
    "# Initialize Earth Engine\n",
    "ee.Initialize()\n",
    "\n",
    "# Load the Hansen Global Forest Change dataset\n",
    "dataset = ee.Image('UMD/hansen/global_forest_change_2022_v1_10')\n",
    "geo=geemap.shp_to_ee(\"/Users/joy/Documents/code/sideProjects/gMapExperiements/data/png.shp\")\n"
   ]
  },
  {
   "cell_type": "code",
   "execution_count": null,
   "metadata": {},
   "outputs": [],
   "source": [
    "M=geemap.Map()\n",
    "M.setCenter(lat=-5.79,lon=150.45,zoom=7)\n",
    "\n"
   ]
  },
  {
   "cell_type": "code",
   "execution_count": 26,
   "metadata": {},
   "outputs": [],
   "source": [
    "dataset=dataset.clip(geo)\n",
    "# Visualization parameters for tree cover\n",
    "treeCoverVisParam = {\n",
    "    'bands': ['treecover2000'],\n",
    "    'min': 0,\n",
    "    'max': 100,\n",
    "    'palette': ['grey', 'green']\n",
    "}\n",
    "\n",
    "# Add the tree cover layer to the map\n",
    "M.addLayer(dataset, treeCoverVisParam, 'tree cover')\n",
    "\n",
    "# Visualization parameters for tree loss year\n",
    "treeLossVisParam = {\n",
    "    'bands': ['lossyear'],\n",
    "    'min': 15,\n",
    "    'max': 22,\n",
    "    'palette': ['yellow', 'red']\n",
    "}\n",
    "\n",
    "# Add the tree loss year layer to the map\n",
    "M.addLayer(dataset, treeLossVisParam, 'tree loss year')"
   ]
  },
  {
   "cell_type": "code",
   "execution_count": null,
   "metadata": {},
   "outputs": [
    {
     "data": {
      "application/vnd.jupyter.widget-view+json": {
       "model_id": "d36417d4c68b4bbe9749bfe8fc8c5c1e",
       "version_major": 2,
       "version_minor": 0
      },
      "text/plain": [
       "Map(bottom=135149.0, center=[-5.179849772787955, 151.45751953125], controls=(WidgetControl(options=['position'…"
      ]
     },
     "metadata": {},
     "output_type": "display_data"
    }
   ],
   "source": [
    "M"
   ]
  },
  {
   "cell_type": "code",
   "execution_count": null,
   "metadata": {},
   "outputs": [],
   "source": [
    "# Define the visualization parameters for tree loss\n",
    "treeLossVisParam = {\n",
    "    'bands': ['lossyear'],\n",
    "    'min': 0,\n",
    "    'max': 22,\n",
    "    'palette': ['yellow', 'red']\n",
    "}\n",
    "\n",
    "# Create an ImageCollection with annual images from 2000 to 2022\n",
    "start_year = 2000\n",
    "end_year = 2022\n",
    "image_collection = ee.ImageCollection('UMD/hansen/global_forest_change_2022_v1_10') \\\n",
    "    .filter(ee.Filter.date(str(start_year), str(end_year)))\n",
    "\n",
    "# Create a function to add the tree loss data as a band for each year\n",
    "def add_tree_loss_data(image):\n",
    "    return image.addBands(image.select(['lossyear']).rename([str(image.get('year'))]))\n",
    "\n",
    "# Map the function to the ImageCollection to add tree loss bands\n",
    "image_collection_with_bands = image_collection.map(add_tree_loss_data)\n",
    "\n",
    "# Select the tree loss bands\n",
    "tree_loss_bands = image_collection_with_bands.select([str(year) for year in range(start_year, end_year + 1)])\n",
    "\n",
    "# Create a multi-band image with tree loss bands\n",
    "tree_loss_animation = tree_loss_bands.toBands()\n",
    "\n",
    "# Display the animation\n",
    "Map = geemap.Map()\n",
    "Map.addLayer(tree_loss_animation, treeLossVisParam, 'Tree Loss Animation')\n",
    "Map.centerObject(dataset, 6)\n",
    "Map\n"
   ]
  },
  {
   "cell_type": "code",
   "execution_count": 4,
   "metadata": {},
   "outputs": [
    {
     "data": {
      "application/vnd.jupyter.widget-view+json": {
       "model_id": "1beb771e06584e398ba9c23dfcabb662",
       "version_major": 2,
       "version_minor": 0
      },
      "text/plain": [
       "Map(center=[-5.79, 150.45], controls=(ZoomControl(options=['position', 'zoom_in_text', 'zoom_in_title', 'zoom_…"
      ]
     },
     "metadata": {},
     "output_type": "display_data"
    }
   ],
   "source": [
    "import ee\n",
    "import geemap\n",
    "\n",
    "# Initialize Earth Engine\n",
    "ee.Initialize()\n",
    "geo=geemap.shp_to_ee(\"/Users/joy/Documents/code/sideProjects/gMapExperiements/data/png.shp\")\n",
    "# Load the Hansen Global Forest Change dataset\n",
    "hansen = ee.Image('UMD/hansen/global_forest_change_2022_v1_10')\n",
    "hansen=hansen.clip(geo)\n",
    "\n",
    "# Define visualization parameters\n",
    "treecover_vis_params = {\n",
    "    'bands': ['treecover2000'],\n",
    "    'min': 0,\n",
    "    'max': 100,\n",
    "    'palette': ['grey', 'green']\n",
    "}\n",
    "\n",
    "lossyear_vis_params = {\n",
    "    'bands': ['lossyear'],\n",
    "    'min': 0,\n",
    "    'max': 22,\n",
    "    'palette': ['yellow','red']  # Red for loss year\n",
    "}\n",
    "\n",
    "# Create a Map object\n",
    "Map = geemap.Map()\n",
    "\n",
    "# Define the left and right panels\n",
    "left_layer = geemap.ee_tile_layer(hansen, treecover_vis_params, 'Tree Cover 2000')\n",
    "right_layer = geemap.ee_tile_layer(hansen, lossyear_vis_params, 'Loss Year')\n",
    "\n",
    "# # Add layers to the map\n",
    "# Map.addLayer(left_layer, {}, 'Tree Cover 2000')\n",
    "# Map.addLayer(right_layer, {}, 'Loss Year')\n",
    "\n",
    "# Create a split panel using the Map.split_map() function\n",
    "Map.split_map(left_layer, right_layer)\n",
    "\n",
    "Map.setCenter(lat=-5.79,lon=150.45,zoom=7)\n",
    "# Display the map\n",
    "Map\n"
   ]
  }
 ],
 "metadata": {
  "kernelspec": {
   "display_name": "gMap",
   "language": "python",
   "name": "python3"
  },
  "language_info": {
   "codemirror_mode": {
    "name": "ipython",
    "version": 3
   },
   "file_extension": ".py",
   "mimetype": "text/x-python",
   "name": "python",
   "nbconvert_exporter": "python",
   "pygments_lexer": "ipython3",
   "version": "3.10.10"
  },
  "orig_nbformat": 4
 },
 "nbformat": 4,
 "nbformat_minor": 2
}
